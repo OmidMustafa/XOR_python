{
  "nbformat": 4,
  "nbformat_minor": 0,
  "metadata": {
    "colab": {
      "name": "numpy.ipynb",
      "provenance": [],
      "collapsed_sections": [],
      "include_colab_link": true
    },
    "kernelspec": {
      "name": "python3",
      "display_name": "Python 3"
    }
  },
  "cells": [
    {
      "cell_type": "markdown",
      "metadata": {
        "id": "view-in-github",
        "colab_type": "text"
      },
      "source": [
        "<a href=\"https://colab.research.google.com/github/OmidMustafa/XOR_python/blob/main/numpy.ipynb\" target=\"_parent\"><img src=\"https://colab.research.google.com/assets/colab-badge.svg\" alt=\"Open In Colab\"/></a>"
      ]
    },
    {
      "cell_type": "code",
      "metadata": {
        "id": "nbMDoTLXxwmE"
      },
      "source": [
        "import numpy as np"
      ],
      "execution_count": 2,
      "outputs": []
    },
    {
      "cell_type": "code",
      "metadata": {
        "colab": {
          "base_uri": "https://localhost:8080/"
        },
        "id": "YHBWUzwQ9j5b",
        "outputId": "0be37404-a23a-48f3-9f22-f89a425b9ee0"
      },
      "source": [
        "# Vector 1-D array\r\n",
        "a = [1,2,3] \r\n",
        "\r\n",
        "a = a + [1]\r\n",
        "\r\n",
        "print(a)\r\n",
        "\r\n",
        "# Numpy array 1-D \r\n",
        "b = np.array([4,5,6])\r\n",
        "\r\n",
        "b = np.append(b,[7])\r\n",
        "\r\n"
      ],
      "execution_count": 3,
      "outputs": [
        {
          "output_type": "stream",
          "text": [
            "[1, 2, 3, 1]\n"
          ],
          "name": "stdout"
        }
      ]
    },
    {
      "cell_type": "code",
      "metadata": {
        "colab": {
          "base_uri": "https://localhost:8080/"
        },
        "id": "F9ed8K-bF7PL",
        "outputId": "0eed93f7-7323-424c-a1d8-c542516abe24"
      },
      "source": [
        "A = np.array([[1,22,3],[4,5,6],[111,-11,33]])\r\n",
        "B = np.array([[10,11,12],[13,14,15],[14,7,2.5]])\r\n",
        "\r\n",
        "A.shape"
      ],
      "execution_count": 4,
      "outputs": [
        {
          "output_type": "execute_result",
          "data": {
            "text/plain": [
              "(3, 3)"
            ]
          },
          "metadata": {
            "tags": []
          },
          "execution_count": 4
        }
      ]
    },
    {
      "cell_type": "code",
      "metadata": {
        "colab": {
          "base_uri": "https://localhost:8080/"
        },
        "id": "hirFv_2OLk8G",
        "outputId": "e00ed5f5-d5a1-44d8-81b0-0d77603b3c0d"
      },
      "source": [
        "\r\n",
        "sum = np.sum(np.dot(A,B))\r\n",
        "print(sum)\r\n",
        "sum.dtype"
      ],
      "execution_count": 31,
      "outputs": [
        {
          "output_type": "stream",
          "text": [
            "5487.0\n"
          ],
          "name": "stdout"
        },
        {
          "output_type": "execute_result",
          "data": {
            "text/plain": [
              "dtype('float64')"
            ]
          },
          "metadata": {
            "tags": []
          },
          "execution_count": 31
        }
      ]
    },
    {
      "cell_type": "code",
      "metadata": {
        "id": "ueGP8UrISmnF",
        "colab": {
          "base_uri": "https://localhost:8080/"
        },
        "outputId": "897c3454-05d0-4e3d-c052-60ce95775f67"
      },
      "source": [
        "C = np.array([[10,11,12],[13,14,15],[16,17,18]])\r\n",
        "\r\n",
        "C\r\n",
        "C.shape"
      ],
      "execution_count": 6,
      "outputs": [
        {
          "output_type": "execute_result",
          "data": {
            "text/plain": [
              "(3, 3)"
            ]
          },
          "metadata": {
            "tags": []
          },
          "execution_count": 6
        }
      ]
    },
    {
      "cell_type": "code",
      "metadata": {
        "id": "PIhb1ZltrBMW",
        "colab": {
          "base_uri": "https://localhost:8080/"
        },
        "outputId": "17572687-079d-4add-eccc-7704f8ef424e"
      },
      "source": [
        "K = np.array([[1,2,3],[1,2,3],[2,3,5]])\r\n",
        "\r\n",
        "K.ndim"
      ],
      "execution_count": 10,
      "outputs": [
        {
          "output_type": "execute_result",
          "data": {
            "text/plain": [
              "2"
            ]
          },
          "metadata": {
            "tags": []
          },
          "execution_count": 10
        }
      ]
    },
    {
      "cell_type": "code",
      "metadata": {
        "colab": {
          "base_uri": "https://localhost:8080/"
        },
        "id": "Bn3b3HmVogZ9",
        "outputId": "87532261-29e9-4d6a-af42-8df5069b05d0"
      },
      "source": [
        "F = np.random.random(size=5)\r\n",
        "F"
      ],
      "execution_count": 12,
      "outputs": [
        {
          "output_type": "execute_result",
          "data": {
            "text/plain": [
              "array([0.55412327, 0.96144187, 0.1857229 , 0.24972063, 0.04994645])"
            ]
          },
          "metadata": {
            "tags": []
          },
          "execution_count": 12
        }
      ]
    },
    {
      "cell_type": "code",
      "metadata": {
        "colab": {
          "base_uri": "https://localhost:8080/"
        },
        "id": "2d0ivPjWotja",
        "outputId": "c2724679-b244-49a5-fbe6-899dbaf2d020"
      },
      "source": [
        "L = np.random.rand(4,4,4)\r\n",
        "L\r\n",
        "L.shape"
      ],
      "execution_count": 16,
      "outputs": [
        {
          "output_type": "execute_result",
          "data": {
            "text/plain": [
              "(4, 4, 4)"
            ]
          },
          "metadata": {
            "tags": []
          },
          "execution_count": 16
        }
      ]
    },
    {
      "cell_type": "code",
      "metadata": {
        "colab": {
          "base_uri": "https://localhost:8080/"
        },
        "id": "hjaAik9spgi6",
        "outputId": "1cab2887-bbe6-4257-80cd-bce8f5b05639"
      },
      "source": [
        "U = np.random.uniform(4.3,5.3,3)\r\n",
        "print(U)\r\n",
        "U.shape"
      ],
      "execution_count": 26,
      "outputs": [
        {
          "output_type": "stream",
          "text": [
            "[4.94584775 5.27103662 4.41071922]\n"
          ],
          "name": "stdout"
        },
        {
          "output_type": "execute_result",
          "data": {
            "text/plain": [
              "(3,)"
            ]
          },
          "metadata": {
            "tags": []
          },
          "execution_count": 26
        }
      ]
    },
    {
      "cell_type": "code",
      "metadata": {
        "colab": {
          "base_uri": "https://localhost:8080/"
        },
        "id": "eJuGVH85u9zs",
        "outputId": "bfc12f1b-7cde-41fb-eadc-d3ed754cd0e3"
      },
      "source": [
        "Z_3D = np.array([\r\n",
        "                 [\r\n",
        "                  [1,2,3],\r\n",
        "                  [4,5,6],\r\n",
        "                  [7,8,9]\r\n",
        "                  ],\r\n",
        "\r\n",
        "                 [\r\n",
        "                 [1,2,3],\r\n",
        "                 [4,5,6],\r\n",
        "                 [7,8,9]],\r\n",
        "\r\n",
        "                  [[1,2,3],\r\n",
        "                  [4,5,6],\r\n",
        "                  [7,8,9]\r\n",
        "                  ],\r\n",
        "\r\n",
        "                  [\r\n",
        "                  [1,2,3],\r\n",
        "                  [4,5,6],\r\n",
        "                  [7,8,9]\r\n",
        "                  ]\r\n",
        "                 ]\r\n",
        "                )\r\n",
        "print(Z_3D)\r\n",
        "print(\"Number of Dimensions\",Z_3D.ndim)\r\n",
        "print(\"Size of Array\",Z_3D.size)"
      ],
      "execution_count": 22,
      "outputs": [
        {
          "output_type": "stream",
          "text": [
            "[[[1 2 3]\n",
            "  [4 5 6]\n",
            "  [7 8 9]]\n",
            "\n",
            " [[1 2 3]\n",
            "  [4 5 6]\n",
            "  [7 8 9]]\n",
            "\n",
            " [[1 2 3]\n",
            "  [4 5 6]\n",
            "  [7 8 9]]\n",
            "\n",
            " [[1 2 3]\n",
            "  [4 5 6]\n",
            "  [7 8 9]]]\n",
            "Number of Dimensions 3\n",
            "Size of Array 36\n"
          ],
          "name": "stdout"
        }
      ]
    },
    {
      "cell_type": "code",
      "metadata": {
        "colab": {
          "base_uri": "https://localhost:8080/"
        },
        "id": "P4fRfnouxYPw",
        "outputId": "ede82545-6e2a-4e79-c333-1ff23cadc5de"
      },
      "source": [
        "B = np.array([[[\r\n",
        "                [1,2,3],[1,2,3]],\r\n",
        "                [[1,2,3],[1,2,3]],\r\n",
        "                [[1,2,3],[1,2,3]]\r\n",
        "               ]])\r\n",
        "print(B)\r\n",
        "print(B.ndim)\r\n",
        "B.shape"
      ],
      "execution_count": 36,
      "outputs": [
        {
          "output_type": "stream",
          "text": [
            "[[[[1 2 3]\n",
            "   [1 2 3]]\n",
            "\n",
            "  [[1 2 3]\n",
            "   [1 2 3]]\n",
            "\n",
            "  [[1 2 3]\n",
            "   [1 2 3]]]]\n",
            "4\n"
          ],
          "name": "stdout"
        },
        {
          "output_type": "execute_result",
          "data": {
            "text/plain": [
              "(1, 3, 2, 3)"
            ]
          },
          "metadata": {
            "tags": []
          },
          "execution_count": 36
        }
      ]
    },
    {
      "cell_type": "code",
      "metadata": {
        "colab": {
          "base_uri": "https://localhost:8080/"
        },
        "id": "jKVdbv3iz6Rk",
        "outputId": "700fdccd-9731-424c-dd64-26e86ac1a0c2"
      },
      "source": [
        "Z_3D = np.zeros_like([\r\n",
        "                 [\r\n",
        "                  [1,2,3],\r\n",
        "                  [4,5,6],\r\n",
        "                  [7,8,9]\r\n",
        "                  ],\r\n",
        "\r\n",
        "                 [\r\n",
        "                 [1,2,3],\r\n",
        "                 [4,5,6],\r\n",
        "                 [7,8,9]],\r\n",
        "\r\n",
        "                  [[1,2,3],\r\n",
        "                  [4,5,6],\r\n",
        "                  [7,8,9]\r\n",
        "                  ],\r\n",
        "\r\n",
        "                  [\r\n",
        "                  [1,2,3],\r\n",
        "                  [4,5,6],\r\n",
        "                  [7,8,9]\r\n",
        "                  ]\r\n",
        "                 ]\r\n",
        "                )\r\n",
        "print(Z_3D)\r\n",
        "print(\"Number of Dimensions \",Z_3D.ndim)\r\n",
        "print(\"Size of Array\",Z_3D.size)"
      ],
      "execution_count": 46,
      "outputs": [
        {
          "output_type": "stream",
          "text": [
            "[[[0 0 0]\n",
            "  [0 0 0]\n",
            "  [0 0 0]]\n",
            "\n",
            " [[0 0 0]\n",
            "  [0 0 0]\n",
            "  [0 0 0]]\n",
            "\n",
            " [[0 0 0]\n",
            "  [0 0 0]\n",
            "  [0 0 0]]\n",
            "\n",
            " [[0 0 0]\n",
            "  [0 0 0]\n",
            "  [0 0 0]]]\n",
            "Number of Dimensions  3\n",
            "Size of Array 36\n"
          ],
          "name": "stdout"
        }
      ]
    }
  ]
}